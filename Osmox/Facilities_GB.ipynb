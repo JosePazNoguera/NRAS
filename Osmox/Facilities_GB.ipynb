{
 "cells": [
  {
   "cell_type": "code",
   "execution_count": 4,
   "id": "efae3210",
   "metadata": {},
   "outputs": [
    {
     "ename": "SyntaxError",
     "evalue": "invalid syntax (835233529.py, line 1)",
     "output_type": "error",
     "traceback": [
      "\u001b[1;36m  File \u001b[1;32m\"C:\\Users\\jose.delapaznoguera\\AppData\\Local\\Temp\\ipykernel_2168\\835233529.py\"\u001b[1;36m, line \u001b[1;32m1\u001b[0m\n\u001b[1;33m    pip install conda\u001b[0m\n\u001b[1;37m              ^\u001b[0m\n\u001b[1;31mSyntaxError\u001b[0m\u001b[1;31m:\u001b[0m invalid syntax\n"
     ]
    }
   ],
   "source": [
    "pip install conda\n",
    "\n",
    "# Activate the osmox environment in Anaconda\n",
    "conda activate osmox_env\n",
    "conda install geopandas\n",
    "\n",
    "# Clone this repository locally\n",
    "git clone git@github.com:arup-group/osmox.git\n",
    "    \n",
    "# Change directory\n",
    "cd osmox\n",
    "\n",
    "# Install the current directory in editable mode and test\n",
    "pip install -e .\n",
    "pytest"
   ]
  },
  {
   "cell_type": "code",
   "execution_count": 2,
   "id": "1be453de",
   "metadata": {},
   "outputs": [
    {
     "name": "stdout",
     "output_type": "stream",
     "text": [
      "[1, 2, 3]\n"
     ]
    }
   ],
   "source": []
  }
 ],
 "metadata": {
  "kernelspec": {
   "display_name": "Python 3 (ipykernel)",
   "language": "python",
   "name": "python3"
  },
  "language_info": {
   "codemirror_mode": {
    "name": "ipython",
    "version": 3
   },
   "file_extension": ".py",
   "mimetype": "text/x-python",
   "name": "python",
   "nbconvert_exporter": "python",
   "pygments_lexer": "ipython3",
   "version": "3.7.13"
  }
 },
 "nbformat": 4,
 "nbformat_minor": 5
}
